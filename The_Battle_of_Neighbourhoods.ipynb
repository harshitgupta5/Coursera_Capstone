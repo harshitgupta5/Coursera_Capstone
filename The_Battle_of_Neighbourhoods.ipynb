{
  "nbformat": 4,
  "nbformat_minor": 0,
  "metadata": {
    "colab": {
      "name": "The Battle of Neighbourhoods.ipynb",
      "provenance": [],
      "authorship_tag": "ABX9TyP1RqYMD/VM82LP0wUGvtxf"
    },
    "kernelspec": {
      "name": "python3",
      "display_name": "Python 3"
    }
  },
  "cells": [
    {
      "cell_type": "markdown",
      "metadata": {
        "id": "tdpKvQjl82k1",
        "colab_type": "text"
      },
      "source": [
        "#Capstone Project - The Battle of Neighborhoods\n",
        "##Introduction\n",
        "New York is the most populous city in the United States. With an estimated 2019 population of 8,336,817 distributed over about 302.6 square miles , New York is also the most densely populated major city in the United States. Located at the southern tip of the U.S. state of New York, the city is the center of the New York metropolitan area, the largest metropolitan area in the world by urban landmass. With almost 20 million people in its metropolitan statistical area and approximately 23 million in its combined statistical area, it is one of the world's most populous megacities. New York City has been described as the cultural, financial, and media capital of the world, significantly influencing commerce, entertainment, research, technology, education, politics, tourism, art, fashion, and sports. \n",
        "\n",
        "New York City is sometimes referred to collectively as the five boroughs.\n",
        "\n",
        "There are hundreds of distinct neighborhoods throughout the boroughs, many with a definable history and character. If the boroughs were each independent cities, four of the boroughs (Brooklyn, Queens, Manhattan, and the Bronx) would be among the ten most populous cities in the United States (Staten Island would be ranked 37th); these same boroughs are coterminous with the four most densely populated counties in the United States: New York (Manhattan), Kings (Brooklyn), Bronx, and Queens.\n",
        "\n",
        "New York City's food culture includes an array of international cuisines influenced by the city's immigrant history. Central and Eastern European immigrants, especially Jewish immigrants from those regions, brought bagels, cheesecake, hot dogs, knishes, and delicatessens (or delis) to the city. The New York City Department of Health and Mental Hygiene assigns letter grades to the city's restaurants based upon their inspection results. As of 2019, there were 27,043 restaurants in the city, up from 24,865 in 2017. \n",
        "\n",
        "With it's diverse culture , comes diverse food items. There are many resturants in New york City, each beloning to different categories like Chinese , Indian , French etc.\n",
        "\n",
        "So as part of this project , we will list and visualize all major parts of New York City that has great chinese resturants.\n",
        "\n",
        "## Data\n",
        "### Data Sources \n",
        "For this project we need the following data :\n",
        "* New York City data that contains list Boroughs, Neighborhoods along with their latitude and longitude.\n",
        ">* Data source : https://cocl.us/new_york_dataset\n",
        ">* Description : This data set contains the required information. And we will use this data set to explore various neighborhoods of new york city.\n",
        "* Chinese resturants in each neighborhood of new york city.\n",
        ">* Data source : Fousquare API\n",
        ">* Description : By using this api we will get all the venues in each neighborhood. We will  filter these to get only chinese resturants.\n",
        "* GeoSpace data\n",
        ">* Data source : https://data.cityofnewyork.us/City-Government/Borough-Boundaries/tqmj-j8zm\n",
        ">* Description : By using this  data we will get the New york Borough boundaries that will help us in visualizing choropleth map.\n",
        "\n",
        "### How the data will be used?\n",
        "* We will Collect the new york city data from https://cocl.us/new_york_dataset\n",
        "* Using FourSquare API we will find all venues for each neighborhood.\n",
        "* Well will filter out all chinese restaurants.\n",
        "* We will find rating , tips and like count for each chinese Resturants using FourSquare API.\n",
        "* Using rating for each resturant , we will sort that data.\n",
        "* Visualize the Ranking of neighborhoods using folium library(python)\n",
        "\n",
        "### What all we will get?\n",
        "* Best location in New York for Chinese Cuisine\n",
        "* Area having potential Chinese Restaurant Market\n",
        "* Areas lacking Chinese restaurants\n",
        "* Best place to stay if one prefers Chinese Cuisine"
      ]
    },
    {
      "cell_type": "code",
      "metadata": {
        "id": "0in50YzL8u1W",
        "colab_type": "code",
        "colab": {}
      },
      "source": [
        ""
      ],
      "execution_count": 0,
      "outputs": []
    }
  ]
}